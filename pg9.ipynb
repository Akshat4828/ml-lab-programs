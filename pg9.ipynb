{
 "cells": [
  {
   "cell_type": "markdown",
   "metadata": {},
   "source": [
    "<h5> Name: Hanush Gowrav Gowda K S <br>\n",
    "USN: 1JB17CS051<br><br>\n",
    "Program: 9<br>\n",
    "Assignment: 4</h5><h6>(Program 9)</h6>"
   ]
  },
  {
   "cell_type": "code",
   "execution_count": 4,
   "metadata": {},
   "outputs": [
    {
     "name": "stdout",
     "output_type": "stream",
     "text": [
      "Size of training data and its label (135, 4) (135,)\n",
      "Size of testing data and its label (15, 4) (15,)\n",
      "Label 0 - setosa\n",
      "Label 1 - versicolor\n",
      "Label 2 - virginica\n",
      "\n",
      "Results of Classification using K-nn with K=1 \n",
      " Sample: [5.1 3.8 1.9 0.4]  Actual-lable: 0 predicted-label: 0\n",
      " Sample: [6.7 3.  5.2 2.3]  Actual-lable: 2 predicted-label: 2\n",
      " Sample: [6.1 2.8 4.7 1.2]  Actual-lable: 1 predicted-label: 1\n",
      " Sample: [6.  2.2 5.  1.5]  Actual-lable: 2 predicted-label: 1\n",
      " Sample: [5.5 4.2 1.4 0.2]  Actual-lable: 0 predicted-label: 0\n",
      " Sample: [5.7 2.8 4.5 1.3]  Actual-lable: 1 predicted-label: 1\n",
      " Sample: [5.6 3.  4.1 1.3]  Actual-lable: 1 predicted-label: 1\n",
      " Sample: [5.7 2.5 5.  2. ]  Actual-lable: 2 predicted-label: 2\n",
      " Sample: [5.8 2.7 5.1 1.9]  Actual-lable: 2 predicted-label: 2\n",
      " Sample: [6.3 3.3 4.7 1.6]  Actual-lable: 1 predicted-label: 1\n",
      " Sample: [5.8 4.  1.2 0.2]  Actual-lable: 0 predicted-label: 0\n",
      " Sample: [6.6 3.  4.4 1.4]  Actual-lable: 1 predicted-label: 1\n",
      " Sample: [5.6 2.9 3.6 1.3]  Actual-lable: 1 predicted-label: 1\n",
      " Sample: [6.1 2.6 5.6 1.4]  Actual-lable: 2 predicted-label: 2\n",
      " Sample: [4.8 3.4 1.9 0.2]  Actual-lable: 0 predicted-label: 0\n",
      "\n",
      "Classification Acuuracy : 0.9333333333333333\n",
      "\n",
      "Confusion Matrix\n",
      "[[4 0 0]\n",
      " [0 6 0]\n",
      " [0 1 4]]\n",
      "\n",
      "Accuracy Metrics\n",
      "              precision    recall  f1-score   support\n",
      "\n",
      "           0       1.00      1.00      1.00         4\n",
      "           1       0.86      1.00      0.92         6\n",
      "           2       1.00      0.80      0.89         5\n",
      "\n",
      "    accuracy                           0.93        15\n",
      "   macro avg       0.95      0.93      0.94        15\n",
      "weighted avg       0.94      0.93      0.93        15\n",
      "\n"
     ]
    }
   ],
   "source": [
    "from sklearn.model_selection import train_test_split\n",
    "from sklearn.neighbors import KNeighborsClassifier\n",
    "from sklearn.metrics import classification_report, confusion_matrix\n",
    "from sklearn import datasets\n",
    "\n",
    "iris=datasets.load_iris()\n",
    "\n",
    "x_train, x_test, y_train, y_test = train_test_split(iris.data,iris.target,test_size=0.1)\n",
    "print(\"Size of training data and its label\",x_train.shape,y_train.shape)\n",
    "print(\"Size of testing data and its label\",x_test.shape,y_test.shape)\n",
    "    \n",
    "for i in range(len(iris.target_names)):\n",
    "    print(\"Label\",i,\"-\",str(iris.target_names[i]))\n",
    "\n",
    "classifier = KNeighborsClassifier(n_neighbors=1)\n",
    "\n",
    "classifier.fit(x_train, y_train)\n",
    "\n",
    "y_pred=classifier.predict(x_test)\n",
    "\n",
    "print(\"\\nResults of Classification using K-nn with K=1 \")\n",
    "for r in range(0,len(x_test)):\n",
    "    print(\" Sample:\",str(x_test[r]), \" Actual-lable:\", str(y_test[r]), \"predicted-label:\", str(y_pred[r]))\n",
    "print(\"\\nClassification Acuuracy :\",classifier.score(x_test,y_test));\n",
    "  \n",
    "print('\\nConfusion Matrix')\n",
    "print(confusion_matrix(y_test,y_pred))\n",
    "print('\\nAccuracy Metrics')\n",
    "print(classification_report(y_test,y_pred))"
   ]
  },
  {
   "cell_type": "code",
   "execution_count": null,
   "metadata": {},
   "outputs": [],
   "source": []
  }
 ],
 "metadata": {
  "kernelspec": {
   "display_name": "Python 3",
   "language": "python",
   "name": "python3"
  },
  "language_info": {
   "codemirror_mode": {
    "name": "ipython",
    "version": 3
   },
   "file_extension": ".py",
   "mimetype": "text/x-python",
   "name": "python",
   "nbconvert_exporter": "python",
   "pygments_lexer": "ipython3",
   "version": "3.8.5"
  }
 },
 "nbformat": 4,
 "nbformat_minor": 2
}
