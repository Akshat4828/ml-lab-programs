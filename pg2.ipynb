{
 "cells": [
  {
   "cell_type": "markdown",
   "metadata": {},
   "source": [
    "<h5> Name: Hanush Gowrav Gowda K S <br>\n",
    "USN: 1JB17CS051<br><br>\n",
    "Program: 2<br>\n",
    "Assignment: 2</h5><h6>(Candidate-Elimination algorithm)</h6>"
   ]
  },
  {
   "cell_type": "code",
   "execution_count": 1,
   "metadata": {},
   "outputs": [],
   "source": [
    "import pandas as pd"
   ]
  },
  {
   "cell_type": "code",
   "execution_count": 2,
   "metadata": {},
   "outputs": [],
   "source": [
    "ds=pd.read_csv(\"Hanush\\pgrm2.csv\")\n",
    "X=ds.iloc[:,0:-1].values\n",
    "y=ds.iloc[:,-1].values\n",
    "s=X[0]\n",
    "g=[[\"?\"for i in range(len(s))] for i in range (len(s))]"
   ]
  },
  {
   "cell_type": "code",
   "execution_count": 3,
   "metadata": {},
   "outputs": [
    {
     "name": "stdout",
     "output_type": "stream",
     "text": [
      "S: ['sunny' 'warm' '?' 'strong' '?' '?']\n",
      "G: [['sunny', '?', '?', '?', '?', '?'], ['?', 'warm', '?', '?', '?', '?']]\n"
     ]
    }
   ],
   "source": [
    "for i,h in enumerate(X):\n",
    "    if y[i]=='yes':\n",
    "        for j in range(len(s)):\n",
    "            if h[j]!=s[j]:\n",
    "                s[j]='?'\n",
    "                g[j][j]='?'\n",
    "    if y[i]=='no':\n",
    "        for j in range(len(s)):\n",
    "            if h[j]!=s[j]:\n",
    "                g[j][j]=s[j]\n",
    "            else:\n",
    "                g[j][j]='?'            \n",
    "ind=[i for i,val in enumerate(g) if val==['?','?','?','?','?','?']]\n",
    "for i in ind:\n",
    "    g.remove(['?','?','?','?','?','?'])\n",
    "print(\"S:\",s)\n",
    "print(\"G:\",g)"
   ]
  }
 ],
 "metadata": {
  "kernelspec": {
   "display_name": "Python 3",
   "language": "python",
   "name": "python3"
  },
  "language_info": {
   "codemirror_mode": {
    "name": "ipython",
    "version": 3
   },
   "file_extension": ".py",
   "mimetype": "text/x-python",
   "name": "python",
   "nbconvert_exporter": "python",
   "pygments_lexer": "ipython3",
   "version": "3.8.5"
  }
 },
 "nbformat": 4,
 "nbformat_minor": 2
}
